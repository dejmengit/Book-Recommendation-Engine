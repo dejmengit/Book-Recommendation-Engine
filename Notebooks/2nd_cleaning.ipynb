{
 "cells": [
  {
   "cell_type": "code",
   "execution_count": 2,
   "id": "5bb90167-b908-4a68-9b42-ddae104ccdfc",
   "metadata": {},
   "outputs": [
    {
     "data": {
      "text/plain": [
       "(1658, 6)"
      ]
     },
     "execution_count": 2,
     "metadata": {},
     "output_type": "execute_result"
    }
   ],
   "source": [
    "import pandas as pd\n",
    "\n",
    "# adjust the path if needed\n",
    "df = pd.read_csv(\"../data/openlibrary_books.csv\")\n",
    "df.shape"
   ]
  },
  {
   "cell_type": "code",
   "execution_count": 3,
   "id": "a8cc5063-ba0f-4a51-b0e3-1403ec977fa3",
   "metadata": {},
   "outputs": [
    {
     "data": {
      "text/plain": [
       "Index(['work_key', 'title', 'authors', 'subjects', 'first_publish_year',\n",
       "       'cover_url'],\n",
       "      dtype='object')"
      ]
     },
     "execution_count": 3,
     "metadata": {},
     "output_type": "execute_result"
    }
   ],
   "source": [
    "df.columns     "
   ]
  },
  {
   "cell_type": "code",
   "execution_count": 4,
   "id": "c5fb4241-0e85-48db-9f97-2c0068c24ed5",
   "metadata": {},
   "outputs": [
    {
     "data": {
      "text/html": [
       "<div>\n",
       "<style scoped>\n",
       "    .dataframe tbody tr th:only-of-type {\n",
       "        vertical-align: middle;\n",
       "    }\n",
       "\n",
       "    .dataframe tbody tr th {\n",
       "        vertical-align: top;\n",
       "    }\n",
       "\n",
       "    .dataframe thead th {\n",
       "        text-align: right;\n",
       "    }\n",
       "</style>\n",
       "<table border=\"1\" class=\"dataframe\">\n",
       "  <thead>\n",
       "    <tr style=\"text-align: right;\">\n",
       "      <th></th>\n",
       "      <th>work_key</th>\n",
       "      <th>title</th>\n",
       "      <th>authors</th>\n",
       "      <th>subjects</th>\n",
       "      <th>first_publish_year</th>\n",
       "      <th>cover_url</th>\n",
       "    </tr>\n",
       "  </thead>\n",
       "  <tbody>\n",
       "    <tr>\n",
       "      <th>0</th>\n",
       "      <td>/works/OL66554W</td>\n",
       "      <td>Pride and Prejudice</td>\n",
       "      <td>Jane Austen</td>\n",
       "      <td>Fiction, Romance, Historical, Regency, British...</td>\n",
       "      <td>1813</td>\n",
       "      <td>https://covers.openlibrary.org/b/id/14348537-L...</td>\n",
       "    </tr>\n",
       "    <tr>\n",
       "      <th>1</th>\n",
       "      <td>/works/OL138052W</td>\n",
       "      <td>Alice's Adventures in Wonderland</td>\n",
       "      <td>Lewis Carroll</td>\n",
       "      <td>Alice (fictitious character : carroll), fictio...</td>\n",
       "      <td>1865</td>\n",
       "      <td>https://covers.openlibrary.org/b/id/10527843-L...</td>\n",
       "    </tr>\n",
       "    <tr>\n",
       "      <th>2</th>\n",
       "      <td>/works/OL8193416W</td>\n",
       "      <td>The Picture of Dorian Gray</td>\n",
       "      <td>Oscar Wilde</td>\n",
       "      <td>British and irish fiction (fictional works by ...</td>\n",
       "      <td>1890</td>\n",
       "      <td>https://covers.openlibrary.org/b/id/14314858-L...</td>\n",
       "    </tr>\n",
       "    <tr>\n",
       "      <th>3</th>\n",
       "      <td>/works/OL21177W</td>\n",
       "      <td>Wuthering Heights</td>\n",
       "      <td>Emily Brontë</td>\n",
       "      <td>British and irish fiction (fictional works by ...</td>\n",
       "      <td>1846</td>\n",
       "      <td>https://covers.openlibrary.org/b/id/12818862-L...</td>\n",
       "    </tr>\n",
       "    <tr>\n",
       "      <th>4</th>\n",
       "      <td>/works/OL8193497W</td>\n",
       "      <td>A Christmas Carol</td>\n",
       "      <td>Charles Dickens</td>\n",
       "      <td>Ghost stories, Readers, Ebenzer Scrooge (Ficti...</td>\n",
       "      <td>1843</td>\n",
       "      <td>https://covers.openlibrary.org/b/id/13299222-L...</td>\n",
       "    </tr>\n",
       "  </tbody>\n",
       "</table>\n",
       "</div>"
      ],
      "text/plain": [
       "            work_key                             title          authors  \\\n",
       "0    /works/OL66554W               Pride and Prejudice      Jane Austen   \n",
       "1   /works/OL138052W  Alice's Adventures in Wonderland    Lewis Carroll   \n",
       "2  /works/OL8193416W        The Picture of Dorian Gray      Oscar Wilde   \n",
       "3    /works/OL21177W                 Wuthering Heights    Emily Brontë   \n",
       "4  /works/OL8193497W                 A Christmas Carol  Charles Dickens   \n",
       "\n",
       "                                            subjects  first_publish_year  \\\n",
       "0  Fiction, Romance, Historical, Regency, British...                1813   \n",
       "1  Alice (fictitious character : carroll), fictio...                1865   \n",
       "2  British and irish fiction (fictional works by ...                1890   \n",
       "3  British and irish fiction (fictional works by ...                1846   \n",
       "4  Ghost stories, Readers, Ebenzer Scrooge (Ficti...                1843   \n",
       "\n",
       "                                           cover_url  \n",
       "0  https://covers.openlibrary.org/b/id/14348537-L...  \n",
       "1  https://covers.openlibrary.org/b/id/10527843-L...  \n",
       "2  https://covers.openlibrary.org/b/id/14314858-L...  \n",
       "3  https://covers.openlibrary.org/b/id/12818862-L...  \n",
       "4  https://covers.openlibrary.org/b/id/13299222-L...  "
      ]
     },
     "execution_count": 4,
     "metadata": {},
     "output_type": "execute_result"
    }
   ],
   "source": [
    "df.head()     "
   ]
  },
  {
   "cell_type": "code",
   "execution_count": 5,
   "id": "486a3a5d-bca7-41ef-a915-c0c357a13444",
   "metadata": {},
   "outputs": [],
   "source": [
    "# drop duplicates\n",
    "df = df.drop_duplicates(subset=\"work_key\").reset_index(drop=True)"
   ]
  },
  {
   "cell_type": "code",
   "execution_count": 6,
   "id": "819003e7-7342-49c7-95fa-f11d04f5f9a5",
   "metadata": {},
   "outputs": [],
   "source": [
    "# simplyfy authors\n",
    "df[\"main_author\"] = df[\"authors\"].str.split(\",\").str[0]"
   ]
  },
  {
   "cell_type": "code",
   "execution_count": 7,
   "id": "a1796c53-d963-4183-9a2d-6c51e1c23ab2",
   "metadata": {},
   "outputs": [],
   "source": [
    "# normalize genres\n",
    "def clean_subjects(s):\n",
    "    if pd.isna(s): return None\n",
    "    parts = [p.strip().lower() for p in s.split(\",\")]\n",
    "    seen = []\n",
    "    for p in parts:\n",
    "        if p not in seen:\n",
    "            seen.append(p)\n",
    "    return \", \".join(seen[:3])\n",
    "\n",
    "df[\"clean_subjects\"] = df[\"subjects\"].apply(clean_subjects)\n"
   ]
  },
  {
   "cell_type": "code",
   "execution_count": 13,
   "id": "11379dd1-2276-4266-8139-d214d2593c85",
   "metadata": {},
   "outputs": [],
   "source": [
    "# handle missing years\n",
    "df[\"first_publish_year\"] = pd.to_numeric(df[\"first_publish_year\"], errors=\"coerce\")"
   ]
  },
  {
   "cell_type": "code",
   "execution_count": 14,
   "id": "f99d9b71-fdb4-440c-9185-c68f16d54c10",
   "metadata": {},
   "outputs": [
    {
     "data": {
      "text/html": [
       "<div>\n",
       "<style scoped>\n",
       "    .dataframe tbody tr th:only-of-type {\n",
       "        vertical-align: middle;\n",
       "    }\n",
       "\n",
       "    .dataframe tbody tr th {\n",
       "        vertical-align: top;\n",
       "    }\n",
       "\n",
       "    .dataframe thead th {\n",
       "        text-align: right;\n",
       "    }\n",
       "</style>\n",
       "<table border=\"1\" class=\"dataframe\">\n",
       "  <thead>\n",
       "    <tr style=\"text-align: right;\">\n",
       "      <th></th>\n",
       "      <th>work_key</th>\n",
       "      <th>title</th>\n",
       "      <th>authors</th>\n",
       "      <th>subjects</th>\n",
       "      <th>first_publish_year</th>\n",
       "      <th>cover_url</th>\n",
       "      <th>main_author</th>\n",
       "      <th>clean_subjects</th>\n",
       "    </tr>\n",
       "  </thead>\n",
       "  <tbody>\n",
       "    <tr>\n",
       "      <th>0</th>\n",
       "      <td>/works/OL66554W</td>\n",
       "      <td>Pride and Prejudice</td>\n",
       "      <td>Jane Austen</td>\n",
       "      <td>Fiction, Romance, Historical, Regency, British...</td>\n",
       "      <td>1813</td>\n",
       "      <td>https://covers.openlibrary.org/b/id/14348537-L...</td>\n",
       "      <td>Jane Austen</td>\n",
       "      <td>fiction, romance, historical</td>\n",
       "    </tr>\n",
       "    <tr>\n",
       "      <th>1</th>\n",
       "      <td>/works/OL138052W</td>\n",
       "      <td>Alice's Adventures in Wonderland</td>\n",
       "      <td>Lewis Carroll</td>\n",
       "      <td>Alice (fictitious character : carroll), fictio...</td>\n",
       "      <td>1865</td>\n",
       "      <td>https://covers.openlibrary.org/b/id/10527843-L...</td>\n",
       "      <td>Lewis Carroll</td>\n",
       "      <td>alice (fictitious character : carroll), fictio...</td>\n",
       "    </tr>\n",
       "    <tr>\n",
       "      <th>2</th>\n",
       "      <td>/works/OL8193416W</td>\n",
       "      <td>The Picture of Dorian Gray</td>\n",
       "      <td>Oscar Wilde</td>\n",
       "      <td>British and irish fiction (fictional works by ...</td>\n",
       "      <td>1890</td>\n",
       "      <td>https://covers.openlibrary.org/b/id/14314858-L...</td>\n",
       "      <td>Oscar Wilde</td>\n",
       "      <td>british and irish fiction (fictional works by ...</td>\n",
       "    </tr>\n",
       "    <tr>\n",
       "      <th>3</th>\n",
       "      <td>/works/OL21177W</td>\n",
       "      <td>Wuthering Heights</td>\n",
       "      <td>Emily Brontë</td>\n",
       "      <td>British and irish fiction (fictional works by ...</td>\n",
       "      <td>1846</td>\n",
       "      <td>https://covers.openlibrary.org/b/id/12818862-L...</td>\n",
       "      <td>Emily Brontë</td>\n",
       "      <td>british and irish fiction (fictional works by ...</td>\n",
       "    </tr>\n",
       "    <tr>\n",
       "      <th>4</th>\n",
       "      <td>/works/OL8193497W</td>\n",
       "      <td>A Christmas Carol</td>\n",
       "      <td>Charles Dickens</td>\n",
       "      <td>Ghost stories, Readers, Ebenzer Scrooge (Ficti...</td>\n",
       "      <td>1843</td>\n",
       "      <td>https://covers.openlibrary.org/b/id/13299222-L...</td>\n",
       "      <td>Charles Dickens</td>\n",
       "      <td>ghost stories, readers, ebenzer scrooge (ficti...</td>\n",
       "    </tr>\n",
       "  </tbody>\n",
       "</table>\n",
       "</div>"
      ],
      "text/plain": [
       "            work_key                             title          authors  \\\n",
       "0    /works/OL66554W               Pride and Prejudice      Jane Austen   \n",
       "1   /works/OL138052W  Alice's Adventures in Wonderland    Lewis Carroll   \n",
       "2  /works/OL8193416W        The Picture of Dorian Gray      Oscar Wilde   \n",
       "3    /works/OL21177W                 Wuthering Heights    Emily Brontë   \n",
       "4  /works/OL8193497W                 A Christmas Carol  Charles Dickens   \n",
       "\n",
       "                                            subjects  first_publish_year  \\\n",
       "0  Fiction, Romance, Historical, Regency, British...                1813   \n",
       "1  Alice (fictitious character : carroll), fictio...                1865   \n",
       "2  British and irish fiction (fictional works by ...                1890   \n",
       "3  British and irish fiction (fictional works by ...                1846   \n",
       "4  Ghost stories, Readers, Ebenzer Scrooge (Ficti...                1843   \n",
       "\n",
       "                                           cover_url      main_author  \\\n",
       "0  https://covers.openlibrary.org/b/id/14348537-L...      Jane Austen   \n",
       "1  https://covers.openlibrary.org/b/id/10527843-L...    Lewis Carroll   \n",
       "2  https://covers.openlibrary.org/b/id/14314858-L...      Oscar Wilde   \n",
       "3  https://covers.openlibrary.org/b/id/12818862-L...    Emily Brontë   \n",
       "4  https://covers.openlibrary.org/b/id/13299222-L...  Charles Dickens   \n",
       "\n",
       "                                      clean_subjects  \n",
       "0                       fiction, romance, historical  \n",
       "1  alice (fictitious character : carroll), fictio...  \n",
       "2  british and irish fiction (fictional works by ...  \n",
       "3  british and irish fiction (fictional works by ...  \n",
       "4  ghost stories, readers, ebenzer scrooge (ficti...  "
      ]
     },
     "execution_count": 14,
     "metadata": {},
     "output_type": "execute_result"
    }
   ],
   "source": [
    "df.head()"
   ]
  },
  {
   "cell_type": "code",
   "execution_count": 15,
   "id": "b6cafc85-aa5d-4fe9-9e18-380d0409763d",
   "metadata": {},
   "outputs": [
    {
     "data": {
      "text/plain": [
       "(1658, 8)"
      ]
     },
     "execution_count": 15,
     "metadata": {},
     "output_type": "execute_result"
    }
   ],
   "source": [
    "df.shape"
   ]
  },
  {
   "cell_type": "code",
   "execution_count": 16,
   "id": "24c8dbd4-951a-43ef-9336-19d887255bd8",
   "metadata": {},
   "outputs": [
    {
     "name": "stdout",
     "output_type": "stream",
     "text": [
      "Saved -> openlibrary_books.csv with 1658 rows\n"
     ]
    }
   ],
   "source": [
    "# download new clean DS\n",
    "df.to_csv(\"clean_openlibrary_books.csv\", index=False)\n",
    "print(\"Saved -> openlibrary_books.csv with\", len(df), \"rows\")"
   ]
  },
  {
   "cell_type": "code",
   "execution_count": null,
   "id": "6076ece3-3d94-4074-803f-2e0aee99ac78",
   "metadata": {},
   "outputs": [],
   "source": []
  }
 ],
 "metadata": {
  "kernelspec": {
   "display_name": "Python [conda env:base] *",
   "language": "python",
   "name": "conda-base-py"
  },
  "language_info": {
   "codemirror_mode": {
    "name": "ipython",
    "version": 3
   },
   "file_extension": ".py",
   "mimetype": "text/x-python",
   "name": "python",
   "nbconvert_exporter": "python",
   "pygments_lexer": "ipython3",
   "version": "3.12.2"
  }
 },
 "nbformat": 4,
 "nbformat_minor": 5
}
